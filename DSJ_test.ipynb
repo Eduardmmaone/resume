{
 "cells": [
  {
   "cell_type": "code",
   "execution_count": null,
   "metadata": {},
   "outputs": [],
   "source": [
    "import numpy as np #для матричных вычислений\n",
    "import pandas as pd #для анализа и предобработки данных\n",
    "import plotly.express as px #для визуализации данных \n"
   ]
  },
  {
   "cell_type": "code",
   "execution_count": null,
   "metadata": {},
   "outputs": [],
   "source": [
    "data = pd.read_excel('/Users/eduardgavrilov/Downloads/Тестовое задание.xlsx')\n",
    "data.drop(columns='good (1)', inplace=True)\n",
    "# испортируем excel файл в датафрейм и удаляем колонку \n"
   ]
  },
  {
   "cell_type": "code",
   "execution_count": null,
   "metadata": {},
   "outputs": [],
   "source": [
    "data.info()\n",
    "# смотри какие столбцы у нас есть\n",
    "# тип данных столбцов и заодно проверяем есть ли у нас пустые строки"
   ]
  },
  {
   "cell_type": "code",
   "execution_count": null,
   "metadata": {},
   "outputs": [],
   "source": [
    "data[data.isnull().any(axis=1)]\n",
    "# проверяем на наличие пустых строки"
   ]
  },
  {
   "cell_type": "code",
   "execution_count": null,
   "metadata": {},
   "outputs": [],
   "source": [
    "data.dropna(inplace=True)\n",
    "# удаляем полность пустые строки"
   ]
  },
  {
   "attachments": {},
   "cell_type": "markdown",
   "metadata": {},
   "source": [
    "Далее нужно провести разведывательный анализ\n",
    "\n",
    "1. Определение пропущенных значений: проверка наличия пропущенных значений в данных и их обработка. \n",
    "\n",
    "2. Проверка на наличие дубликатов: проверка данных на дубликаты и их удаление, если они имеются."
   ]
  },
  {
   "attachments": {},
   "cell_type": "markdown",
   "metadata": {},
   "source": [
    "Так как у нас у большинства объектов датафрейма тип данных object стандарный метод describe нам ничего особенного не покажет, учитывая что метод describe рассчитывает статистические показатели для числовых признаков. В нашем случает это колонки 'x, y, count, cluster' из всех перечисленных только для колонки count может быть полезет данный метод. "
   ]
  },
  {
   "cell_type": "code",
   "execution_count": null,
   "metadata": {},
   "outputs": [],
   "source": [
    "data['area'].unique()\n",
    "data['cluster'].unique()\n",
    "data['cluster_name'].unique()\n",
    "data['count'].unique() # в уникальных значениях присутствует 'N\\\\A' и '-' что \n",
    "# является пропусками, нужно данные значения дозаполнить, заполнять будем среднем по area в каждом кластере\n",
    "data['keyword'].unique()\n",
    "data['y'].unique()"
   ]
  },
  {
   "cell_type": "code",
   "execution_count": null,
   "metadata": {},
   "outputs": [],
   "source": [
    "data[data['count'] == 'N\\\\A'].index"
   ]
  },
  {
   "cell_type": "code",
   "execution_count": null,
   "metadata": {},
   "outputs": [],
   "source": [
    "data[data['count'] == '-'].index"
   ]
  },
  {
   "attachments": {},
   "cell_type": "markdown",
   "metadata": {},
   "source": [
    "Если внимательно посмотреть на признак 'y' с его уникальными значениями, можно обратить внимание что среди чисел есть вот такое значение 0x414fe002 вероятней всего это какая-то ошибка и из-за того что это координата, данную строку придется удалить"
   ]
  },
  {
   "cell_type": "code",
   "execution_count": null,
   "metadata": {},
   "outputs": [],
   "source": [
    "data['count'][49] = round(data[(data['area'] == 'protein') & (data['cluster'] == 0.0)]['count'][0:3].mean())\n",
    "# заполняем средним значением count в одном area и cluster"
   ]
  },
  {
   "cell_type": "code",
   "execution_count": null,
   "metadata": {},
   "outputs": [],
   "source": [
    "data['count'][217] = round(data[(data['area'] == 'greetings') & (data['cluster'] == 1.0)]['count'][1:3].mean())\n",
    "# заполняем средним значением count в одном area и cluster"
   ]
  },
  {
   "cell_type": "code",
   "execution_count": null,
   "metadata": {},
   "outputs": [],
   "source": [
    "data = data.drop(99)\n",
    "# удаляем по индеку в признаке \"у\" пропущенное значение"
   ]
  },
  {
   "attachments": {},
   "cell_type": "markdown",
   "metadata": {},
   "source": [
    "Далее приводим колонки к правильному типу данных"
   ]
  },
  {
   "cell_type": "code",
   "execution_count": null,
   "metadata": {},
   "outputs": [],
   "source": [
    "data['cluster'] = data['cluster'].astype('int')\n",
    "data['count'] = data['count'].astype('int')\n",
    "data['y'] = data['y'].astype('float')\n",
    "data['cluster']= data['cluster'].astype('int')"
   ]
  },
  {
   "cell_type": "code",
   "execution_count": null,
   "metadata": {},
   "outputs": [],
   "source": [
    "data.pivot_table(values='cluster', index='area', columns='cluster_name', aggfunc='count')\n",
    "# данная таблица отражает количество того или иного кластера в каждом area. Это таблица\n",
    "# помогает с ориентироваться для по количеству требуемых цветов"
   ]
  },
  {
   "cell_type": "code",
   "execution_count": null,
   "metadata": {},
   "outputs": [],
   "source": [
    "colors_hex = [\n",
    "    \"#FF0000\", \"#FF8C00\", \"#FFD700\", \"#00FF00\",\n",
    "    \"#4169E1\", \"#9932CC\", \"#B22222\", \"#8B008B\",\n",
    "    \"#8B4513\", \"#808000\", \"#1E90FF\", \"#9ACD32\",\n",
    "    \"#FF6347\", \"#00BFFF\", \"#FF69B4\", \"#FF4500\",\n",
    "    \"#C71585\", \"#00FF7F\", \"#DC143C\", \"#228B22\",\n",
    "    \"#00CED1\", \"#0000CD\", \"#800080\", \"#2E8B57\",\n",
    "    \"#8B0000\", \"#008080\", \"#8A2BE2\", \"#ADFF2F\",\n",
    "    \"#FF1493\", \"#A0522D\", \"#6495ED\", \"#FA8072\",\n",
    "    \"#4B0082\", \"#6B8E23\", \"#7CFC00\", \"#FFA500\",\n",
    "    \"#483D8B\", \"#6A5ACD\", \"#CD853F\", \"#40E0D0\",\n",
    "    \"#9370DB\", \"#FFDAB9\", \"#FFA07A\", \"#20B2AA\",\n",
    "    \"#778899\", \"#00FA9A\", \"#90EE90\", \"#D2B48C\",\n",
    "    \"#FFC0CB\", \"#FFFACD\", \"#FFE4E1\", \"#FAEBD7\",\n",
    "    \"#D8BFD8\", \"#EE82EE\", \"#F0E68C\", \"#CD5C5C\",\n",
    "    \"#F08080\", \"#E6E6FA\", \"#F5DEB3\", \"#00FFFF\"\n",
    "]\n",
    "\n",
    "# создаем список с кодами цветов\n",
    "\n",
    "\n",
    "colors_dict = {'eligibility': colors_hex[:4],\n",
    "               'capability': colors_hex[4:8],\n",
    "               'available': colors_hex[8:12],\n",
    "               'protein': colors_hex[12:16],\n",
    "               'winner': colors_hex[16:20],\n",
    "               'locator': colors_hex[20:24],\n",
    "               'worlds': colors_hex[24:28],\n",
    "               'ar\\\\vr': colors_hex[28:32],\n",
    "               'twisted': colors_hex[32:36],\n",
    "               'lithuania': colors_hex[36:40],\n",
    "               'personnel': colors_hex[40:44],\n",
    "               'housewives': colors_hex[44:48],\n",
    "               'dialog': colors_hex[48:52],\n",
    "               'except': colors_hex[52:56],\n",
    "               'greetings': colors_hex[56:60]\n",
    "               }\n",
    "\n",
    "# для каждого area выделяем из списка по 4 цвета, именно такое количество кластеров в каждой области"
   ]
  },
  {
   "attachments": {},
   "cell_type": "markdown",
   "metadata": {},
   "source": [
    "Ниже пройдемся циклом for по парам ключ-значение в словаре color_dict. Затем снова циклом for пройдемся по пронумерованному спису area_colors в каждой паре. Далее находим все строки датафрейма где столбец area соотвествует текущей переменной area и аналогично со столбцом cluster и переменной cluster. Далее вводим новый столбец color и добавляе соответствующий код цвета по предварительному фильтру. Таким образом мы по отсортированным строкам сформировали новую нужную нам для построения графиков колонку color"
   ]
  },
  {
   "cell_type": "code",
   "execution_count": null,
   "metadata": {},
   "outputs": [],
   "source": [
    "for area, area_colors in colors_dict.items():\n",
    "    # print(area, area_colors)\n",
    "    for cluster, color in enumerate(area_colors):\n",
    "        # print(cluster)\n",
    "        data.loc[(data['area'] == area) & (data['cluster'] == cluster), 'color'] = color"
   ]
  },
  {
   "attachments": {},
   "cell_type": "markdown",
   "metadata": {},
   "source": [
    "Удаляем дубликаты по столбцу keyword для каждого area (без учета кластера!)"
   ]
  },
  {
   "cell_type": "code",
   "execution_count": null,
   "metadata": {},
   "outputs": [],
   "source": [
    "data = data.drop_duplicates(subset=['area', 'keyword'])\n"
   ]
  },
  {
   "cell_type": "code",
   "execution_count": null,
   "metadata": {},
   "outputs": [],
   "source": [
    "data.to_excel('my_table.xlsx', index=False)\n",
    "# перезаписываем наш датафрейм так же в excel файл"
   ]
  },
  {
   "attachments": {},
   "cell_type": "markdown",
   "metadata": {},
   "source": [
    "Далее строим графики для каждой области."
   ]
  },
  {
   "cell_type": "code",
   "execution_count": 683,
   "metadata": {},
   "outputs": [
    {
     "data": {
      "application/vnd.plotly.v1+json": {
       "config": {
        "plotlyServerURL": "https://plot.ly"
       },
       "data": [
        {
         "hovertemplate": "Кластеры=Кластер 0<br>x=%{x}<br>y=%{y}<br>count=%{marker.size}<br>keyword=%{text}<extra></extra>",
         "legendgroup": "Кластер 0",
         "marker": {
          "color": "#FF0000",
          "size": [
           1260,
           866,
           163,
           1146
          ],
          "sizemode": "area",
          "sizeref": 4.5425,
          "symbol": "circle"
         },
         "mode": "markers+text",
         "name": "Кластер 0",
         "orientation": "v",
         "showlegend": true,
         "text": [
          "several animated buried",
          "singles unusual buyers",
          "hawaiian directive",
          "dynamics directly"
         ],
         "type": "scatter",
         "x": [
          5.772341707768705,
          14.829279864186246,
          11.381855832287467,
          9.980149264692514
         ],
         "xaxis": "x",
         "y": [
          12.564796257345005,
          7.8507285727125815,
          3.8981370219558604,
          6.281427914064545
         ],
         "yaxis": "y"
        },
        {
         "hovertemplate": "Кластеры=Кластер 1<br>x=%{x}<br>y=%{y}<br>count=%{marker.size}<br>keyword=%{text}<extra></extra>",
         "legendgroup": "Кластер 1",
         "marker": {
          "color": "#FF8C00",
          "size": [
           823,
           1377,
           281,
           1501,
           139
          ],
          "sizemode": "area",
          "sizeref": 4.5425,
          "symbol": "circle"
         },
         "mode": "markers+text",
         "name": "Кластер 1",
         "orientation": "v",
         "showlegend": true,
         "text": [
          "decision surgeons montreal",
          "knives everybody",
          "lighting observe",
          "payday oriental",
          "vampire injured"
         ],
         "type": "scatter",
         "x": [
          3.2839396214346106,
          5.607191826999559,
          11.419919070509494,
          8.035719882567493,
          5.247682515198207
         ],
         "xaxis": "x",
         "y": [
          4.39674063521296,
          13.155189236409358,
          3.1617111286924686,
          2.9656951192720844,
          0.7791614555083071
         ],
         "yaxis": "y"
        },
        {
         "hovertemplate": "Кластеры=Кластер 2<br>x=%{x}<br>y=%{y}<br>count=%{marker.size}<br>keyword=%{text}<extra></extra>",
         "legendgroup": "Кластер 2",
         "marker": {
          "color": "#FFD700",
          "size": [
           309,
           129,
           281
          ],
          "sizemode": "area",
          "sizeref": 4.5425,
          "symbol": "circle"
         },
         "mode": "markers+text",
         "name": "Кластер 2",
         "orientation": "v",
         "showlegend": true,
         "text": [
          "heavily responsible",
          "alternative homeless",
          "celtic automation"
         ],
         "type": "scatter",
         "x": [
          4.783522116296197,
          14.927879392242405,
          5.539904224439553
         ],
         "xaxis": "x",
         "y": [
          7.172434500682598,
          10.281612538543575,
          3.5805593604528685
         ],
         "yaxis": "y"
        },
        {
         "hovertemplate": "Кластеры=Кластер 3<br>x=%{x}<br>y=%{y}<br>count=%{marker.size}<br>keyword=%{text}<extra></extra>",
         "legendgroup": "Кластер 3",
         "marker": {
          "color": "#00FF00",
          "size": [
           1817,
           23
          ],
          "sizemode": "area",
          "sizeref": 4.5425,
          "symbol": "circle"
         },
         "mode": "markers+text",
         "name": "Кластер 3",
         "orientation": "v",
         "showlegend": true,
         "text": [
          "creativity bloggers",
          "cowboy arthritis"
         ],
         "type": "scatter",
         "x": [
          13.893232193861431,
          3.598983438264777
         ],
         "xaxis": "x",
         "y": [
          2.5133519530949426,
          12.968220386038821
         ],
         "yaxis": "y"
        }
       ],
       "layout": {
        "height": 1500,
        "legend": {
         "itemsizing": "constant",
         "title": {
          "text": "Кластеры"
         },
         "tracegroupgap": 0
        },
        "template": {
         "data": {
          "bar": [
           {
            "error_x": {
             "color": "#2a3f5f"
            },
            "error_y": {
             "color": "#2a3f5f"
            },
            "marker": {
             "line": {
              "color": "#E5ECF6",
              "width": 0.5
             },
             "pattern": {
              "fillmode": "overlay",
              "size": 10,
              "solidity": 0.2
             }
            },
            "type": "bar"
           }
          ],
          "barpolar": [
           {
            "marker": {
             "line": {
              "color": "#E5ECF6",
              "width": 0.5
             },
             "pattern": {
              "fillmode": "overlay",
              "size": 10,
              "solidity": 0.2
             }
            },
            "type": "barpolar"
           }
          ],
          "carpet": [
           {
            "aaxis": {
             "endlinecolor": "#2a3f5f",
             "gridcolor": "white",
             "linecolor": "white",
             "minorgridcolor": "white",
             "startlinecolor": "#2a3f5f"
            },
            "baxis": {
             "endlinecolor": "#2a3f5f",
             "gridcolor": "white",
             "linecolor": "white",
             "minorgridcolor": "white",
             "startlinecolor": "#2a3f5f"
            },
            "type": "carpet"
           }
          ],
          "choropleth": [
           {
            "colorbar": {
             "outlinewidth": 0,
             "ticks": ""
            },
            "type": "choropleth"
           }
          ],
          "contour": [
           {
            "colorbar": {
             "outlinewidth": 0,
             "ticks": ""
            },
            "colorscale": [
             [
              0,
              "#0d0887"
             ],
             [
              0.1111111111111111,
              "#46039f"
             ],
             [
              0.2222222222222222,
              "#7201a8"
             ],
             [
              0.3333333333333333,
              "#9c179e"
             ],
             [
              0.4444444444444444,
              "#bd3786"
             ],
             [
              0.5555555555555556,
              "#d8576b"
             ],
             [
              0.6666666666666666,
              "#ed7953"
             ],
             [
              0.7777777777777778,
              "#fb9f3a"
             ],
             [
              0.8888888888888888,
              "#fdca26"
             ],
             [
              1,
              "#f0f921"
             ]
            ],
            "type": "contour"
           }
          ],
          "contourcarpet": [
           {
            "colorbar": {
             "outlinewidth": 0,
             "ticks": ""
            },
            "type": "contourcarpet"
           }
          ],
          "heatmap": [
           {
            "colorbar": {
             "outlinewidth": 0,
             "ticks": ""
            },
            "colorscale": [
             [
              0,
              "#0d0887"
             ],
             [
              0.1111111111111111,
              "#46039f"
             ],
             [
              0.2222222222222222,
              "#7201a8"
             ],
             [
              0.3333333333333333,
              "#9c179e"
             ],
             [
              0.4444444444444444,
              "#bd3786"
             ],
             [
              0.5555555555555556,
              "#d8576b"
             ],
             [
              0.6666666666666666,
              "#ed7953"
             ],
             [
              0.7777777777777778,
              "#fb9f3a"
             ],
             [
              0.8888888888888888,
              "#fdca26"
             ],
             [
              1,
              "#f0f921"
             ]
            ],
            "type": "heatmap"
           }
          ],
          "heatmapgl": [
           {
            "colorbar": {
             "outlinewidth": 0,
             "ticks": ""
            },
            "colorscale": [
             [
              0,
              "#0d0887"
             ],
             [
              0.1111111111111111,
              "#46039f"
             ],
             [
              0.2222222222222222,
              "#7201a8"
             ],
             [
              0.3333333333333333,
              "#9c179e"
             ],
             [
              0.4444444444444444,
              "#bd3786"
             ],
             [
              0.5555555555555556,
              "#d8576b"
             ],
             [
              0.6666666666666666,
              "#ed7953"
             ],
             [
              0.7777777777777778,
              "#fb9f3a"
             ],
             [
              0.8888888888888888,
              "#fdca26"
             ],
             [
              1,
              "#f0f921"
             ]
            ],
            "type": "heatmapgl"
           }
          ],
          "histogram": [
           {
            "marker": {
             "pattern": {
              "fillmode": "overlay",
              "size": 10,
              "solidity": 0.2
             }
            },
            "type": "histogram"
           }
          ],
          "histogram2d": [
           {
            "colorbar": {
             "outlinewidth": 0,
             "ticks": ""
            },
            "colorscale": [
             [
              0,
              "#0d0887"
             ],
             [
              0.1111111111111111,
              "#46039f"
             ],
             [
              0.2222222222222222,
              "#7201a8"
             ],
             [
              0.3333333333333333,
              "#9c179e"
             ],
             [
              0.4444444444444444,
              "#bd3786"
             ],
             [
              0.5555555555555556,
              "#d8576b"
             ],
             [
              0.6666666666666666,
              "#ed7953"
             ],
             [
              0.7777777777777778,
              "#fb9f3a"
             ],
             [
              0.8888888888888888,
              "#fdca26"
             ],
             [
              1,
              "#f0f921"
             ]
            ],
            "type": "histogram2d"
           }
          ],
          "histogram2dcontour": [
           {
            "colorbar": {
             "outlinewidth": 0,
             "ticks": ""
            },
            "colorscale": [
             [
              0,
              "#0d0887"
             ],
             [
              0.1111111111111111,
              "#46039f"
             ],
             [
              0.2222222222222222,
              "#7201a8"
             ],
             [
              0.3333333333333333,
              "#9c179e"
             ],
             [
              0.4444444444444444,
              "#bd3786"
             ],
             [
              0.5555555555555556,
              "#d8576b"
             ],
             [
              0.6666666666666666,
              "#ed7953"
             ],
             [
              0.7777777777777778,
              "#fb9f3a"
             ],
             [
              0.8888888888888888,
              "#fdca26"
             ],
             [
              1,
              "#f0f921"
             ]
            ],
            "type": "histogram2dcontour"
           }
          ],
          "mesh3d": [
           {
            "colorbar": {
             "outlinewidth": 0,
             "ticks": ""
            },
            "type": "mesh3d"
           }
          ],
          "parcoords": [
           {
            "line": {
             "colorbar": {
              "outlinewidth": 0,
              "ticks": ""
             }
            },
            "type": "parcoords"
           }
          ],
          "pie": [
           {
            "automargin": true,
            "type": "pie"
           }
          ],
          "scatter": [
           {
            "fillpattern": {
             "fillmode": "overlay",
             "size": 10,
             "solidity": 0.2
            },
            "type": "scatter"
           }
          ],
          "scatter3d": [
           {
            "line": {
             "colorbar": {
              "outlinewidth": 0,
              "ticks": ""
             }
            },
            "marker": {
             "colorbar": {
              "outlinewidth": 0,
              "ticks": ""
             }
            },
            "type": "scatter3d"
           }
          ],
          "scattercarpet": [
           {
            "marker": {
             "colorbar": {
              "outlinewidth": 0,
              "ticks": ""
             }
            },
            "type": "scattercarpet"
           }
          ],
          "scattergeo": [
           {
            "marker": {
             "colorbar": {
              "outlinewidth": 0,
              "ticks": ""
             }
            },
            "type": "scattergeo"
           }
          ],
          "scattergl": [
           {
            "marker": {
             "colorbar": {
              "outlinewidth": 0,
              "ticks": ""
             }
            },
            "type": "scattergl"
           }
          ],
          "scattermapbox": [
           {
            "marker": {
             "colorbar": {
              "outlinewidth": 0,
              "ticks": ""
             }
            },
            "type": "scattermapbox"
           }
          ],
          "scatterpolar": [
           {
            "marker": {
             "colorbar": {
              "outlinewidth": 0,
              "ticks": ""
             }
            },
            "type": "scatterpolar"
           }
          ],
          "scatterpolargl": [
           {
            "marker": {
             "colorbar": {
              "outlinewidth": 0,
              "ticks": ""
             }
            },
            "type": "scatterpolargl"
           }
          ],
          "scatterternary": [
           {
            "marker": {
             "colorbar": {
              "outlinewidth": 0,
              "ticks": ""
             }
            },
            "type": "scatterternary"
           }
          ],
          "surface": [
           {
            "colorbar": {
             "outlinewidth": 0,
             "ticks": ""
            },
            "colorscale": [
             [
              0,
              "#0d0887"
             ],
             [
              0.1111111111111111,
              "#46039f"
             ],
             [
              0.2222222222222222,
              "#7201a8"
             ],
             [
              0.3333333333333333,
              "#9c179e"
             ],
             [
              0.4444444444444444,
              "#bd3786"
             ],
             [
              0.5555555555555556,
              "#d8576b"
             ],
             [
              0.6666666666666666,
              "#ed7953"
             ],
             [
              0.7777777777777778,
              "#fb9f3a"
             ],
             [
              0.8888888888888888,
              "#fdca26"
             ],
             [
              1,
              "#f0f921"
             ]
            ],
            "type": "surface"
           }
          ],
          "table": [
           {
            "cells": {
             "fill": {
              "color": "#EBF0F8"
             },
             "line": {
              "color": "white"
             }
            },
            "header": {
             "fill": {
              "color": "#C8D4E3"
             },
             "line": {
              "color": "white"
             }
            },
            "type": "table"
           }
          ]
         },
         "layout": {
          "annotationdefaults": {
           "arrowcolor": "#2a3f5f",
           "arrowhead": 0,
           "arrowwidth": 1
          },
          "autotypenumbers": "strict",
          "coloraxis": {
           "colorbar": {
            "outlinewidth": 0,
            "ticks": ""
           }
          },
          "colorscale": {
           "diverging": [
            [
             0,
             "#8e0152"
            ],
            [
             0.1,
             "#c51b7d"
            ],
            [
             0.2,
             "#de77ae"
            ],
            [
             0.3,
             "#f1b6da"
            ],
            [
             0.4,
             "#fde0ef"
            ],
            [
             0.5,
             "#f7f7f7"
            ],
            [
             0.6,
             "#e6f5d0"
            ],
            [
             0.7,
             "#b8e186"
            ],
            [
             0.8,
             "#7fbc41"
            ],
            [
             0.9,
             "#4d9221"
            ],
            [
             1,
             "#276419"
            ]
           ],
           "sequential": [
            [
             0,
             "#0d0887"
            ],
            [
             0.1111111111111111,
             "#46039f"
            ],
            [
             0.2222222222222222,
             "#7201a8"
            ],
            [
             0.3333333333333333,
             "#9c179e"
            ],
            [
             0.4444444444444444,
             "#bd3786"
            ],
            [
             0.5555555555555556,
             "#d8576b"
            ],
            [
             0.6666666666666666,
             "#ed7953"
            ],
            [
             0.7777777777777778,
             "#fb9f3a"
            ],
            [
             0.8888888888888888,
             "#fdca26"
            ],
            [
             1,
             "#f0f921"
            ]
           ],
           "sequentialminus": [
            [
             0,
             "#0d0887"
            ],
            [
             0.1111111111111111,
             "#46039f"
            ],
            [
             0.2222222222222222,
             "#7201a8"
            ],
            [
             0.3333333333333333,
             "#9c179e"
            ],
            [
             0.4444444444444444,
             "#bd3786"
            ],
            [
             0.5555555555555556,
             "#d8576b"
            ],
            [
             0.6666666666666666,
             "#ed7953"
            ],
            [
             0.7777777777777778,
             "#fb9f3a"
            ],
            [
             0.8888888888888888,
             "#fdca26"
            ],
            [
             1,
             "#f0f921"
            ]
           ]
          },
          "colorway": [
           "#636efa",
           "#EF553B",
           "#00cc96",
           "#ab63fa",
           "#FFA15A",
           "#19d3f3",
           "#FF6692",
           "#B6E880",
           "#FF97FF",
           "#FECB52"
          ],
          "font": {
           "color": "#2a3f5f"
          },
          "geo": {
           "bgcolor": "white",
           "lakecolor": "white",
           "landcolor": "#E5ECF6",
           "showlakes": true,
           "showland": true,
           "subunitcolor": "white"
          },
          "hoverlabel": {
           "align": "left"
          },
          "hovermode": "closest",
          "mapbox": {
           "style": "light"
          },
          "paper_bgcolor": "white",
          "plot_bgcolor": "#E5ECF6",
          "polar": {
           "angularaxis": {
            "gridcolor": "white",
            "linecolor": "white",
            "ticks": ""
           },
           "bgcolor": "#E5ECF6",
           "radialaxis": {
            "gridcolor": "white",
            "linecolor": "white",
            "ticks": ""
           }
          },
          "scene": {
           "xaxis": {
            "backgroundcolor": "#E5ECF6",
            "gridcolor": "white",
            "gridwidth": 2,
            "linecolor": "white",
            "showbackground": true,
            "ticks": "",
            "zerolinecolor": "white"
           },
           "yaxis": {
            "backgroundcolor": "#E5ECF6",
            "gridcolor": "white",
            "gridwidth": 2,
            "linecolor": "white",
            "showbackground": true,
            "ticks": "",
            "zerolinecolor": "white"
           },
           "zaxis": {
            "backgroundcolor": "#E5ECF6",
            "gridcolor": "white",
            "gridwidth": 2,
            "linecolor": "white",
            "showbackground": true,
            "ticks": "",
            "zerolinecolor": "white"
           }
          },
          "shapedefaults": {
           "line": {
            "color": "#2a3f5f"
           }
          },
          "ternary": {
           "aaxis": {
            "gridcolor": "white",
            "linecolor": "white",
            "ticks": ""
           },
           "baxis": {
            "gridcolor": "white",
            "linecolor": "white",
            "ticks": ""
           },
           "bgcolor": "#E5ECF6",
           "caxis": {
            "gridcolor": "white",
            "linecolor": "white",
            "ticks": ""
           }
          },
          "title": {
           "x": 0.05
          },
          "xaxis": {
           "automargin": true,
           "gridcolor": "white",
           "linecolor": "white",
           "ticks": "",
           "title": {
            "standoff": 15
           },
           "zerolinecolor": "white",
           "zerolinewidth": 2
          },
          "yaxis": {
           "automargin": true,
           "gridcolor": "white",
           "linecolor": "white",
           "ticks": "",
           "title": {
            "standoff": 15
           },
           "zerolinecolor": "white",
           "zerolinewidth": 2
          }
         }
        },
        "title": {
         "text": "График рассеивания для области \"eligibility\""
        },
        "width": 1500,
        "xaxis": {
         "anchor": "y",
         "domain": [
          0,
          1
         ],
         "title": {
          "text": "x"
         }
        },
        "yaxis": {
         "anchor": "x",
         "domain": [
          0,
          1
         ],
         "title": {
          "text": "y"
         }
        }
       }
      }
     },
     "metadata": {},
     "output_type": "display_data"
    }
   ],
   "source": [
    "fig_eligibility = px.scatter(data_frame=data[data['area'] == 'eligibility'], \n",
    "                             x='x', \n",
    "                             y='y', \n",
    "                             title='График рассеивания для области \"eligibility\"',\n",
    "                             color='cluster_name',\n",
    "                             color_discrete_sequence=colors_hex[:4],\n",
    "                             size='count',\n",
    "                             width=1500,\n",
    "                             height=1500,\n",
    "                             text='keyword',\n",
    "                             labels={'cluster_name':'Кластеры'}\n",
    "                             )\n",
    "fig_eligibility.show()\n",
    "fig_eligibility.write_html(\"fig_eligibility.htmp\", full_html=False)"
   ]
  },
  {
   "cell_type": "code",
   "execution_count": 679,
   "metadata": {},
   "outputs": [
    {
     "ename": "ValueError",
     "evalue": "\nInvalid named renderer(s) received: ['/Users/eduardgavrilov/Documents/IDE/plotly/resume/']",
     "output_type": "error",
     "traceback": [
      "\u001b[0;31m---------------------------------------------------------------------------\u001b[0m",
      "\u001b[0;31mValueError\u001b[0m                                Traceback (most recent call last)",
      "Cell \u001b[0;32mIn[679], line 13\u001b[0m\n\u001b[1;32m      1\u001b[0m fig_capability \u001b[39m=\u001b[39m px\u001b[39m.\u001b[39mscatter(data_frame\u001b[39m=\u001b[39mdata[data[\u001b[39m'\u001b[39m\u001b[39marea\u001b[39m\u001b[39m'\u001b[39m] \u001b[39m==\u001b[39m \u001b[39m'\u001b[39m\u001b[39mcapability\u001b[39m\u001b[39m'\u001b[39m], \n\u001b[1;32m      2\u001b[0m                              x\u001b[39m=\u001b[39m\u001b[39m'\u001b[39m\u001b[39mx\u001b[39m\u001b[39m'\u001b[39m, \n\u001b[1;32m      3\u001b[0m                              y\u001b[39m=\u001b[39m\u001b[39m'\u001b[39m\u001b[39my\u001b[39m\u001b[39m'\u001b[39m, \n\u001b[0;32m   (...)\u001b[0m\n\u001b[1;32m     11\u001b[0m                              labels\u001b[39m=\u001b[39m{\u001b[39m'\u001b[39m\u001b[39mcluster_name\u001b[39m\u001b[39m'\u001b[39m:\u001b[39m'\u001b[39m\u001b[39mКластеры\u001b[39m\u001b[39m'\u001b[39m}\n\u001b[1;32m     12\u001b[0m                              )\n\u001b[0;32m---> 13\u001b[0m fig_capability\u001b[39m.\u001b[39;49mshow(\u001b[39m\"\u001b[39;49m\u001b[39m/Users/eduardgavrilov/Documents/IDE/plotly/resume/\u001b[39;49m\u001b[39m\"\u001b[39;49m)\n",
      "File \u001b[0;32m~/miniconda3/lib/python3.9/site-packages/plotly/basedatatypes.py:3390\u001b[0m, in \u001b[0;36mBaseFigure.show\u001b[0;34m(self, *args, **kwargs)\u001b[0m\n\u001b[1;32m   3357\u001b[0m \u001b[39m\"\"\"\u001b[39;00m\n\u001b[1;32m   3358\u001b[0m \u001b[39mShow a figure using either the default renderer(s) or the renderer(s)\u001b[39;00m\n\u001b[1;32m   3359\u001b[0m \u001b[39mspecified by the renderer argument\u001b[39;00m\n\u001b[0;32m   (...)\u001b[0m\n\u001b[1;32m   3386\u001b[0m \u001b[39mNone\u001b[39;00m\n\u001b[1;32m   3387\u001b[0m \u001b[39m\"\"\"\u001b[39;00m\n\u001b[1;32m   3388\u001b[0m \u001b[39mimport\u001b[39;00m \u001b[39mplotly\u001b[39;00m\u001b[39m.\u001b[39;00m\u001b[39mio\u001b[39;00m \u001b[39mas\u001b[39;00m \u001b[39mpio\u001b[39;00m\n\u001b[0;32m-> 3390\u001b[0m \u001b[39mreturn\u001b[39;00m pio\u001b[39m.\u001b[39;49mshow(\u001b[39mself\u001b[39;49m, \u001b[39m*\u001b[39;49margs, \u001b[39m*\u001b[39;49m\u001b[39m*\u001b[39;49mkwargs)\n",
      "File \u001b[0;32m~/miniconda3/lib/python3.9/site-packages/plotly/io/_renderers.py:388\u001b[0m, in \u001b[0;36mshow\u001b[0;34m(fig, renderer, validate, **kwargs)\u001b[0m\n\u001b[1;32m    385\u001b[0m fig_dict \u001b[39m=\u001b[39m validate_coerce_fig_to_dict(fig, validate)\n\u001b[1;32m    387\u001b[0m \u001b[39m# Mimetype renderers\u001b[39;00m\n\u001b[0;32m--> 388\u001b[0m bundle \u001b[39m=\u001b[39m renderers\u001b[39m.\u001b[39;49m_build_mime_bundle(fig_dict, renderers_string\u001b[39m=\u001b[39;49mrenderer, \u001b[39m*\u001b[39;49m\u001b[39m*\u001b[39;49mkwargs)\n\u001b[1;32m    389\u001b[0m \u001b[39mif\u001b[39;00m bundle:\n\u001b[1;32m    390\u001b[0m     \u001b[39mif\u001b[39;00m \u001b[39mnot\u001b[39;00m ipython_display:\n",
      "File \u001b[0;32m~/miniconda3/lib/python3.9/site-packages/plotly/io/_renderers.py:276\u001b[0m, in \u001b[0;36mRenderersConfig._build_mime_bundle\u001b[0;34m(self, fig_dict, renderers_string, **kwargs)\u001b[0m\n\u001b[1;32m    255\u001b[0m \u001b[39m\"\"\"\u001b[39;00m\n\u001b[1;32m    256\u001b[0m \u001b[39mBuild a mime bundle dict containing a kev/value pair for each\u001b[39;00m\n\u001b[1;32m    257\u001b[0m \u001b[39mMimetypeRenderer specified in either the default renderer string,\u001b[39;00m\n\u001b[0;32m   (...)\u001b[0m\n\u001b[1;32m    273\u001b[0m \u001b[39mdict\u001b[39;00m\n\u001b[1;32m    274\u001b[0m \u001b[39m\"\"\"\u001b[39;00m\n\u001b[1;32m    275\u001b[0m \u001b[39mif\u001b[39;00m renderers_string:\n\u001b[0;32m--> 276\u001b[0m     renderer_names \u001b[39m=\u001b[39m \u001b[39mself\u001b[39;49m\u001b[39m.\u001b[39;49m_validate_coerce_renderers(renderers_string)\n\u001b[1;32m    277\u001b[0m     renderers_list \u001b[39m=\u001b[39m [\u001b[39mself\u001b[39m[name] \u001b[39mfor\u001b[39;00m name \u001b[39min\u001b[39;00m renderer_names]\n\u001b[1;32m    279\u001b[0m     \u001b[39m# Activate these non-default renderers\u001b[39;00m\n",
      "File \u001b[0;32m~/miniconda3/lib/python3.9/site-packages/plotly/io/_renderers.py:219\u001b[0m, in \u001b[0;36mRenderersConfig._validate_coerce_renderers\u001b[0;34m(self, renderers_string)\u001b[0m\n\u001b[1;32m    217\u001b[0m         invalid \u001b[39m=\u001b[39m [name \u001b[39mfor\u001b[39;00m name \u001b[39min\u001b[39;00m renderer_names \u001b[39mif\u001b[39;00m name \u001b[39mnot\u001b[39;00m \u001b[39min\u001b[39;00m \u001b[39mself\u001b[39m]\n\u001b[1;32m    218\u001b[0m         \u001b[39mif\u001b[39;00m invalid:\n\u001b[0;32m--> 219\u001b[0m             \u001b[39mraise\u001b[39;00m \u001b[39mValueError\u001b[39;00m(\n\u001b[1;32m    220\u001b[0m                 \u001b[39m\"\"\"\u001b[39;00m\n\u001b[1;32m    221\u001b[0m \u001b[39mInvalid named renderer(s) received: {}\"\"\"\u001b[39;00m\u001b[39m.\u001b[39mformat(\n\u001b[1;32m    222\u001b[0m                     \u001b[39mstr\u001b[39m(invalid)\n\u001b[1;32m    223\u001b[0m                 )\n\u001b[1;32m    224\u001b[0m             )\n\u001b[1;32m    226\u001b[0m         \u001b[39mreturn\u001b[39;00m renderer_names\n",
      "\u001b[0;31mValueError\u001b[0m: \nInvalid named renderer(s) received: ['/Users/eduardgavrilov/Documents/IDE/plotly/resume/']"
     ]
    }
   ],
   "source": [
    "fig_capability = px.scatter(data_frame=data[data['area'] == 'capability'], \n",
    "                             x='x', \n",
    "                             y='y', \n",
    "                             title='График рассеивания для области \"capability\"',\n",
    "                             color='cluster_name',\n",
    "                             color_discrete_sequence=colors_hex[4:9],\n",
    "                             size='count',\n",
    "                             width=1500,\n",
    "                             height=1500,\n",
    "                             text='keyword',\n",
    "                             labels={'cluster_name':'Кластеры'}\n",
    "                             )\n",
    "fig_capability.show(\"/Users/eduardgavrilov/Documents/IDE/plotly/resume/\")"
   ]
  },
  {
   "cell_type": "code",
   "execution_count": null,
   "metadata": {},
   "outputs": [],
   "source": [
    "fig_available = px.scatter(data_frame=data[data['area'] == 'available'], \n",
    "                             x='x', \n",
    "                             y='y', \n",
    "                             title='График рассеивания для области \"available\"',\n",
    "                             color='cluster_name',\n",
    "                             color_discrete_sequence=colors_hex[9:13],\n",
    "                             size='count',\n",
    "                             width=1500,\n",
    "                             height=1500,\n",
    "                             text='keyword',\n",
    "                             labels={'cluster_name':'Кластеры'}\n",
    "                             )\n",
    "fig_available.show()"
   ]
  },
  {
   "cell_type": "code",
   "execution_count": null,
   "metadata": {},
   "outputs": [],
   "source": [
    "fig_protein = px.scatter(data_frame=data[data['area'] == 'protein'], \n",
    "                             x='x', \n",
    "                             y='y', \n",
    "                             title='График рассеивания для области \"protein\"',\n",
    "                             color='cluster_name',\n",
    "                             color_discrete_sequence=colors_hex[9:13],\n",
    "                             size='count',\n",
    "                             width=1500,\n",
    "                             height=1500,\n",
    "                             text='keyword',\n",
    "                             labels={'cluster_name':'Кластеры'}\n",
    "                             )\n",
    "fig_protein.show()"
   ]
  },
  {
   "cell_type": "code",
   "execution_count": null,
   "metadata": {},
   "outputs": [],
   "source": [
    "fig_protein = px.scatter(data_frame=data[data['area'] == 'protein'], \n",
    "                             x='x', \n",
    "                             y='y', \n",
    "                             title='График рассеивания для области \"protein\"',\n",
    "                             color='cluster_name',\n",
    "                             color_discrete_sequence=colors_hex[13:17],\n",
    "                             size='count',\n",
    "                             width=1500,\n",
    "                             height=1500,\n",
    "                             text='keyword',\n",
    "                             labels={'cluster_name':'Кластеры'}\n",
    "                             )\n",
    "fig_protein.show()"
   ]
  },
  {
   "cell_type": "code",
   "execution_count": null,
   "metadata": {},
   "outputs": [],
   "source": [
    "fig_winner = px.scatter(data_frame=data[data['area'] == 'winner'], \n",
    "                             x='x', \n",
    "                             y='y', \n",
    "                             title='График рассеивания для области \"winner\"',\n",
    "                             color='cluster_name',\n",
    "                             color_discrete_sequence=colors_hex[17:21],\n",
    "                             size='count',\n",
    "                             width=1500,\n",
    "                             height=1500,\n",
    "                             text='keyword',\n",
    "                             labels={'cluster_name':'Кластеры'}\n",
    "                             )\n",
    "fig_winner.show()"
   ]
  },
  {
   "cell_type": "code",
   "execution_count": null,
   "metadata": {},
   "outputs": [],
   "source": [
    "fig_locator = px.scatter(data_frame=data[data['area'] == 'locator'], \n",
    "                             x='x', \n",
    "                             y='y', \n",
    "                             title='График рассеивания для области \"locator\"',\n",
    "                             color='cluster_name',\n",
    "                             color_discrete_sequence=colors_hex[21:25],\n",
    "                             size='count',\n",
    "                             width=1500,\n",
    "                             height=1500,\n",
    "                             text='keyword',\n",
    "                             labels={'cluster_name':'Кластеры'}\n",
    "                             )\n",
    "fig_locator.show()"
   ]
  },
  {
   "cell_type": "code",
   "execution_count": null,
   "metadata": {},
   "outputs": [],
   "source": [
    "fig_worlds = px.scatter(data_frame=data[data['area'] == 'worlds'], \n",
    "                             x='x', \n",
    "                             y='y', \n",
    "                             title='График рассеивания для области \"worlds\"',\n",
    "                             color='cluster_name',\n",
    "                             color_discrete_sequence=colors_hex[25:29],\n",
    "                             size='count',\n",
    "                             width=1500,\n",
    "                             height=1500,\n",
    "                             text='keyword',\n",
    "                             labels={'cluster_name':'Кластеры'}\n",
    "                             )\n",
    "fig_worlds.show()"
   ]
  },
  {
   "cell_type": "code",
   "execution_count": null,
   "metadata": {},
   "outputs": [],
   "source": [
    "fig_ar_vr = px.scatter(data_frame=data[data['area'] == 'ar\\\\vr'], \n",
    "                             x='x', \n",
    "                             y='y', \n",
    "                             title='График рассеивания для области \"ar\\\\vr\"',\n",
    "                             color='cluster_name',\n",
    "                             color_discrete_sequence=colors_hex[29:33],\n",
    "                             size='count',\n",
    "                             width=1500,\n",
    "                             height=1500,\n",
    "                             text='keyword',\n",
    "                             labels={'cluster_name':'Кластеры'}\n",
    "                             )\n",
    "fig_ar_vr.show()"
   ]
  },
  {
   "cell_type": "code",
   "execution_count": null,
   "metadata": {},
   "outputs": [],
   "source": [
    "fig_twisted = px.scatter(data_frame=data[data['area'] == 'twisted'], \n",
    "                             x='x', \n",
    "                             y='y', \n",
    "                             title='График рассеивания для области \"twisted\"',\n",
    "                             color='cluster_name',\n",
    "                             color_discrete_sequence=colors_hex[33:37],\n",
    "                             size='count',\n",
    "                             width=1500,\n",
    "                             height=1500,\n",
    "                             text='keyword',\n",
    "                             labels={'cluster_name':'Кластеры'}\n",
    "                             )\n",
    "fig_twisted.show()"
   ]
  },
  {
   "cell_type": "code",
   "execution_count": null,
   "metadata": {},
   "outputs": [],
   "source": [
    "fig_lithuania = px.scatter(data_frame=data[data['area'] == 'lithuania'], \n",
    "                             x='x', \n",
    "                             y='y', \n",
    "                             title='График рассеивания для области \"lithuania\"',\n",
    "                             color='cluster_name',\n",
    "                             color_discrete_sequence=colors_hex[37:41],\n",
    "                             size='count',\n",
    "                             width=1500,\n",
    "                             height=1500,\n",
    "                             text='keyword',\n",
    "                             labels={'cluster_name':'Кластеры'}\n",
    "                             )\n",
    "fig_lithuania.show()"
   ]
  },
  {
   "cell_type": "code",
   "execution_count": null,
   "metadata": {},
   "outputs": [],
   "source": [
    "fig_personnel = px.scatter(data_frame=data[data['area'] == 'personnel'], \n",
    "                             x='x', \n",
    "                             y='y', \n",
    "                             title='График рассеивания для области \"personnel\"',\n",
    "                             color='cluster_name',\n",
    "                             color_discrete_sequence=colors_hex[41:45],\n",
    "                             size='count',\n",
    "                             width=1500,\n",
    "                             height=1500,\n",
    "                             text='keyword',\n",
    "                             labels={'cluster_name':'Кластеры'}\n",
    "                             )\n",
    "fig_personnel.show()"
   ]
  },
  {
   "cell_type": "code",
   "execution_count": null,
   "metadata": {},
   "outputs": [],
   "source": [
    "fig_housewives = px.scatter(data_frame=data[data['area'] == 'housewives'], \n",
    "                             x='x', \n",
    "                             y='y', \n",
    "                             title='График рассеивания для области \"housewives\"',\n",
    "                             color='cluster_name',\n",
    "                             color_discrete_sequence=colors_hex[45:49],\n",
    "                             size='count',\n",
    "                             width=1500,\n",
    "                             height=1500,\n",
    "                             text='keyword',\n",
    "                             labels={'cluster_name':'Кластеры'}\n",
    "                             )\n",
    "fig_housewives.show()"
   ]
  },
  {
   "cell_type": "code",
   "execution_count": null,
   "metadata": {},
   "outputs": [],
   "source": [
    "fig_dialog = px.scatter(data_frame=data[data['area'] == 'dialog'], \n",
    "                             x='x', \n",
    "                             y='y', \n",
    "                             title='График рассеивания для области \"dialog\"',\n",
    "                             color='cluster_name',\n",
    "                             color_discrete_sequence=colors_hex[49:53],\n",
    "                             size='count',\n",
    "                             width=1500,\n",
    "                             height=1500,\n",
    "                             text='keyword',\n",
    "                             labels={'cluster_name':'Кластеры'}\n",
    "                             )\n",
    "fig_dialog.show()"
   ]
  },
  {
   "cell_type": "code",
   "execution_count": null,
   "metadata": {},
   "outputs": [],
   "source": [
    "fig_except = px.scatter(data_frame=data[data['area'] == 'except'], \n",
    "                             x='x', \n",
    "                             y='y', \n",
    "                             title='График рассеивания для области \"except\"',\n",
    "                             color='cluster_name',\n",
    "                             color_discrete_sequence=colors_hex[53:57],\n",
    "                             size='count',\n",
    "                             width=1500,\n",
    "                             height=1500,\n",
    "                             text='keyword',\n",
    "                             labels={'cluster_name':'Кластеры'}\n",
    "                             )\n",
    "fig_except.show()"
   ]
  },
  {
   "cell_type": "code",
   "execution_count": null,
   "metadata": {},
   "outputs": [],
   "source": [
    "fig_greetings = px.scatter(data_frame=data[data['area'] == 'greetings'], \n",
    "                             x='x', \n",
    "                             y='y', \n",
    "                             title='График рассеивания для области \"greetings\"',\n",
    "                             color='cluster_name',\n",
    "                             color_discrete_sequence=colors_hex[57:],\n",
    "                             size='count',\n",
    "                             width=1500,\n",
    "                             height=1500,\n",
    "                             text='keyword',\n",
    "                             labels={'cluster_name':'Кластеры'}\n",
    "                             )\n",
    "fig_greetings.show()"
   ]
  },
  {
   "cell_type": "code",
   "execution_count": null,
   "metadata": {},
   "outputs": [],
   "source": [
    "fig_eligibility = px.scatter(data_frame=data[data['area'] == 'eligibility'], \n",
    "                             x='x', \n",
    "                             y='y', \n",
    "                             title='График рассеивания для области \"eligibility\"',\n",
    "                             color='cluster_name',\n",
    "                             color_discrete_sequence=colors_hex[:4],\n",
    "                             size='count',\n",
    "                             width=1500,\n",
    "                             height=1500,\n",
    "                             text='keyword',\n",
    "                             labels={'cluster_name':'Кластеры'}\n",
    "                             )\n",
    "fig_eligibility.show()"
   ]
  },
  {
   "cell_type": "code",
   "execution_count": null,
   "metadata": {},
   "outputs": [],
   "source": [
    "fig_eligibility = px.scatter(data_frame=data[data['area'] == 'eligibility'], \n",
    "                             x='x', \n",
    "                             y='y', \n",
    "                             title='График рассеивания для области \"eligibility\"',\n",
    "                             color='cluster_name',\n",
    "                             color_discrete_sequence=colors_hex[:4],\n",
    "                             size='count',\n",
    "                             width=1500,\n",
    "                             height=1500,\n",
    "                             text='keyword',\n",
    "                             labels={'cluster_name':'Кластеры'}\n",
    "                             )\n",
    "fig_eligibility.show()"
   ]
  },
  {
   "cell_type": "code",
   "execution_count": null,
   "metadata": {},
   "outputs": [],
   "source": [
    "fig_eligibility = px.scatter(data_frame=data[data['area'] == 'eligibility'], \n",
    "                             x='x', \n",
    "                             y='y', \n",
    "                             title='График рассеивания для области \"eligibility\"',\n",
    "                             color='cluster_name',\n",
    "                             color_discrete_sequence=colors_hex[:4],\n",
    "                             size='count',\n",
    "                             width=1500,\n",
    "                             height=1500,\n",
    "                             text='keyword',\n",
    "                             labels={'cluster_name':'Кластеры'}\n",
    "                             )\n",
    "fig_eligibility.show()"
   ]
  }
 ],
 "metadata": {
  "kernelspec": {
   "display_name": "base",
   "language": "python",
   "name": "python3"
  },
  "language_info": {
   "codemirror_mode": {
    "name": "ipython",
    "version": 3
   },
   "file_extension": ".py",
   "mimetype": "text/x-python",
   "name": "python",
   "nbconvert_exporter": "python",
   "pygments_lexer": "ipython3",
   "version": "3.9.16"
  },
  "orig_nbformat": 4
 },
 "nbformat": 4,
 "nbformat_minor": 2
}
